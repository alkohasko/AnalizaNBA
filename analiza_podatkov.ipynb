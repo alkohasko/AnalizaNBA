{
 "cells": [
  {
   "cell_type": "markdown",
   "metadata": {},
   "source": [
    "# poiskus"
   ]
  },
  {
   "cell_type": "code",
   "execution_count": 54,
   "metadata": {},
   "outputs": [],
   "source": [
    "import pandas as pd\n",
    "import matplotlib.pyplot as plt\n",
    "import ureditev"
   ]
  },
  {
   "cell_type": "code",
   "execution_count": 36,
   "metadata": {},
   "outputs": [],
   "source": [
    "sezone_MVP = pd.read_csv(\"C:/FAKS/UVP/AnalizaNBA-projektna/obdelani_podatki_MVP/sezone.csv\", index_col=\"Sezona\")\n"
   ]
  },
  {
   "cell_type": "code",
   "execution_count": 37,
   "metadata": {},
   "outputs": [
    {
     "data": {
      "text/html": [
       "<div>\n",
       "<style scoped>\n",
       "    .dataframe tbody tr th:only-of-type {\n",
       "        vertical-align: middle;\n",
       "    }\n",
       "\n",
       "    .dataframe tbody tr th {\n",
       "        vertical-align: top;\n",
       "    }\n",
       "\n",
       "    .dataframe thead th {\n",
       "        text-align: right;\n",
       "    }\n",
       "</style>\n",
       "<table border=\"1\" class=\"dataframe\">\n",
       "  <thead>\n",
       "    <tr style=\"text-align: right;\">\n",
       "      <th></th>\n",
       "      <th>Liga</th>\n",
       "      <th>Zmagovalec</th>\n",
       "      <th>Starost</th>\n",
       "      <th>Odigrane tekme</th>\n",
       "      <th>Točke na tekmo</th>\n",
       "      <th>Skoki na tekmo</th>\n",
       "      <th>Asistence na tekmo</th>\n",
       "      <th>Število odvzetih žog</th>\n",
       "      <th>Blokade</th>\n",
       "    </tr>\n",
       "    <tr>\n",
       "      <th>Sezona</th>\n",
       "      <th></th>\n",
       "      <th></th>\n",
       "      <th></th>\n",
       "      <th></th>\n",
       "      <th></th>\n",
       "      <th></th>\n",
       "      <th></th>\n",
       "      <th></th>\n",
       "      <th></th>\n",
       "    </tr>\n",
       "  </thead>\n",
       "  <tbody>\n",
       "    <tr>\n",
       "      <th>2022-23</th>\n",
       "      <td>NBA</td>\n",
       "      <td>Joel Embiid</td>\n",
       "      <td>28</td>\n",
       "      <td>66</td>\n",
       "      <td>33.1</td>\n",
       "      <td>10.2</td>\n",
       "      <td>4.2</td>\n",
       "      <td>1.0</td>\n",
       "      <td>1.7</td>\n",
       "    </tr>\n",
       "    <tr>\n",
       "      <th>2021-22</th>\n",
       "      <td>NBA</td>\n",
       "      <td>Nikola JokiÄ‡</td>\n",
       "      <td>26</td>\n",
       "      <td>74</td>\n",
       "      <td>27.1</td>\n",
       "      <td>13.8</td>\n",
       "      <td>7.9</td>\n",
       "      <td>1.5</td>\n",
       "      <td>0.9</td>\n",
       "    </tr>\n",
       "    <tr>\n",
       "      <th>2020-21</th>\n",
       "      <td>NBA</td>\n",
       "      <td>Nikola JokiÄ‡</td>\n",
       "      <td>25</td>\n",
       "      <td>72</td>\n",
       "      <td>26.4</td>\n",
       "      <td>10.8</td>\n",
       "      <td>8.3</td>\n",
       "      <td>1.3</td>\n",
       "      <td>0.7</td>\n",
       "    </tr>\n",
       "    <tr>\n",
       "      <th>2019-20</th>\n",
       "      <td>NBA</td>\n",
       "      <td>Giannis Antetokounmpo</td>\n",
       "      <td>25</td>\n",
       "      <td>63</td>\n",
       "      <td>29.5</td>\n",
       "      <td>13.6</td>\n",
       "      <td>5.6</td>\n",
       "      <td>1.0</td>\n",
       "      <td>1.0</td>\n",
       "    </tr>\n",
       "    <tr>\n",
       "      <th>2018-19</th>\n",
       "      <td>NBA</td>\n",
       "      <td>Giannis Antetokounmpo</td>\n",
       "      <td>24</td>\n",
       "      <td>72</td>\n",
       "      <td>27.7</td>\n",
       "      <td>12.5</td>\n",
       "      <td>5.9</td>\n",
       "      <td>1.3</td>\n",
       "      <td>1.5</td>\n",
       "    </tr>\n",
       "    <tr>\n",
       "      <th>...</th>\n",
       "      <td>...</td>\n",
       "      <td>...</td>\n",
       "      <td>...</td>\n",
       "      <td>...</td>\n",
       "      <td>...</td>\n",
       "      <td>...</td>\n",
       "      <td>...</td>\n",
       "      <td>...</td>\n",
       "      <td>...</td>\n",
       "    </tr>\n",
       "    <tr>\n",
       "      <th>1971-72</th>\n",
       "      <td>ABA</td>\n",
       "      <td>Artis Gilmore</td>\n",
       "      <td>22</td>\n",
       "      <td>84</td>\n",
       "      <td>23.8</td>\n",
       "      <td>17.8</td>\n",
       "      <td>2.7</td>\n",
       "      <td>NaN</td>\n",
       "      <td>5.0</td>\n",
       "    </tr>\n",
       "    <tr>\n",
       "      <th>1970-71</th>\n",
       "      <td>ABA</td>\n",
       "      <td>Mel Daniels</td>\n",
       "      <td>26</td>\n",
       "      <td>82</td>\n",
       "      <td>21.0</td>\n",
       "      <td>18.0</td>\n",
       "      <td>2.2</td>\n",
       "      <td>NaN</td>\n",
       "      <td>NaN</td>\n",
       "    </tr>\n",
       "    <tr>\n",
       "      <th>1969-70</th>\n",
       "      <td>ABA</td>\n",
       "      <td>Spencer Haywood</td>\n",
       "      <td>20</td>\n",
       "      <td>84</td>\n",
       "      <td>30.0</td>\n",
       "      <td>19.5</td>\n",
       "      <td>2.3</td>\n",
       "      <td>NaN</td>\n",
       "      <td>NaN</td>\n",
       "    </tr>\n",
       "    <tr>\n",
       "      <th>1968-69</th>\n",
       "      <td>ABA</td>\n",
       "      <td>Mel Daniels</td>\n",
       "      <td>24</td>\n",
       "      <td>76</td>\n",
       "      <td>24.0</td>\n",
       "      <td>16.5</td>\n",
       "      <td>1.5</td>\n",
       "      <td>NaN</td>\n",
       "      <td>NaN</td>\n",
       "    </tr>\n",
       "    <tr>\n",
       "      <th>1967-68</th>\n",
       "      <td>ABA</td>\n",
       "      <td>Connie Hawkins</td>\n",
       "      <td>25</td>\n",
       "      <td>70</td>\n",
       "      <td>26.8</td>\n",
       "      <td>13.5</td>\n",
       "      <td>4.6</td>\n",
       "      <td>NaN</td>\n",
       "      <td>NaN</td>\n",
       "    </tr>\n",
       "  </tbody>\n",
       "</table>\n",
       "<p>78 rows × 9 columns</p>\n",
       "</div>"
      ],
      "text/plain": [
       "        Liga             Zmagovalec  Starost  Odigrane tekme  Točke na tekmo  \\\n",
       "Sezona                                                                         \n",
       "2022-23  NBA            Joel Embiid       28              66            33.1   \n",
       "2021-22  NBA          Nikola JokiÄ‡       26              74            27.1   \n",
       "2020-21  NBA          Nikola JokiÄ‡       25              72            26.4   \n",
       "2019-20  NBA  Giannis Antetokounmpo       25              63            29.5   \n",
       "2018-19  NBA  Giannis Antetokounmpo       24              72            27.7   \n",
       "...      ...                    ...      ...             ...             ...   \n",
       "1971-72  ABA          Artis Gilmore       22              84            23.8   \n",
       "1970-71  ABA            Mel Daniels       26              82            21.0   \n",
       "1969-70  ABA        Spencer Haywood       20              84            30.0   \n",
       "1968-69  ABA            Mel Daniels       24              76            24.0   \n",
       "1967-68  ABA         Connie Hawkins       25              70            26.8   \n",
       "\n",
       "         Skoki na tekmo  Asistence na tekmo  Število odvzetih žog  Blokade  \n",
       "Sezona                                                                      \n",
       "2022-23            10.2                 4.2                   1.0      1.7  \n",
       "2021-22            13.8                 7.9                   1.5      0.9  \n",
       "2020-21            10.8                 8.3                   1.3      0.7  \n",
       "2019-20            13.6                 5.6                   1.0      1.0  \n",
       "2018-19            12.5                 5.9                   1.3      1.5  \n",
       "...                 ...                 ...                   ...      ...  \n",
       "1971-72            17.8                 2.7                   NaN      5.0  \n",
       "1970-71            18.0                 2.2                   NaN      NaN  \n",
       "1969-70            19.5                 2.3                   NaN      NaN  \n",
       "1968-69            16.5                 1.5                   NaN      NaN  \n",
       "1967-68            13.5                 4.6                   NaN      NaN  \n",
       "\n",
       "[78 rows x 9 columns]"
      ]
     },
     "execution_count": 37,
     "metadata": {},
     "output_type": "execute_result"
    }
   ],
   "source": [
    "sezone_MVP"
   ]
  },
  {
   "cell_type": "code",
   "execution_count": 37,
   "metadata": {},
   "outputs": [
    {
     "data": {
      "text/plain": [
       "Index(['Število zadetih metov', 'Število metov', 'Število točk na tekmo',\n",
       "       'Odstotek meta', 'Odstotek prostih metov',\n",
       "       'Odstotek meta za tri točke'],\n",
       "      dtype='object')"
      ]
     },
     "execution_count": 37,
     "metadata": {},
     "output_type": "execute_result"
    }
   ],
   "source": [
    "sezone.columns"
   ]
  },
  {
   "cell_type": "code",
   "execution_count": 38,
   "metadata": {},
   "outputs": [
    {
     "data": {
      "image/png": "[encoded data removed]",
      "text/plain": [
       "<Figure size 640x480 with 1 Axes>"
      ]
     },
     "metadata": {},
     "output_type": "display_data"
    }
   ],
   "source": [
    "x = sezone.index.tolist()\n",
    "x.reverse() \n",
    "y = sezone[\"Število metov\"]\n",
    "\n",
    "plt.plot(x, y)\n",
    "plt.xlabel(\"Sezona\")\n",
    "plt.ylabel(\"Število metov\")\n",
    "plt.title(\"Število metov Through Seasons\")\n",
    "\n",
    "xticks_indices = [0] + list(range(9, len(x), 10)) + [len(x) - 1]\n",
    "plt.xticks([x[i] for i in xticks_indices], rotation=45)\n",
    "\n",
    "plt.tight_layout()\n",
    "plt.show()\n"
   ]
  },
  {
   "cell_type": "code",
   "execution_count": 57,
   "metadata": {},
   "outputs": [
    {
     "ename": "AttributeError",
     "evalue": "module 'ureditev' has no attribute 'graf_metov'",
     "output_type": "error",
     "traceback": [
      "\u001b[1;31m---------------------------------------------------------------------------\u001b[0m",
      "\u001b[1;31mAttributeError\u001b[0m                            Traceback (most recent call last)",
      "Cell \u001b[1;32mIn[57], line 1\u001b[0m\n\u001b[1;32m----> 1\u001b[0m ureditev\u001b[39m.\u001b[39;49mgraf_metov()\n",
      "\u001b[1;31mAttributeError\u001b[0m: module 'ureditev' has no attribute 'graf_metov'"
     ]
    }
   ],
   "source": [
    "ureditev.graf_metov()\n"
   ]
  },
  {
   "cell_type": "code",
   "execution_count": null,
   "metadata": {},
   "outputs": [],
   "source": []
  }
 ],
 "metadata": {
  "kernelspec": {
   "display_name": "Python 3",
   "language": "python",
   "name": "python3"
  },
  "language_info": {
   "codemirror_mode": {
    "name": "ipython",
    "version": 3
   },
   "file_extension": ".py",
   "mimetype": "text/x-python",
   "name": "python",
   "nbconvert_exporter": "python",
   "pygments_lexer": "ipython3",
   "version": "3.10.11"
  },
  "orig_nbformat": 4
 },
 "nbformat": 4,
 "nbformat_minor": 2
}
